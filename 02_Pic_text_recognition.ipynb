{
  "nbformat": 4,
  "nbformat_minor": 0,
  "metadata": {
    "colab": {
      "name": "02_Pic text recognition.ipynb",
      "provenance": [],
      "collapsed_sections": [],
      "authorship_tag": "ABX9TyOHlaMNRY+N7XD0H1j1qstr",
      "include_colab_link": true
    },
    "kernelspec": {
      "name": "python3",
      "display_name": "Python 3"
    },
    "language_info": {
      "name": "python"
    }
  },
  "cells": [
    {
      "cell_type": "markdown",
      "metadata": {
        "id": "view-in-github",
        "colab_type": "text"
      },
      "source": [
        "<a href=\"https://colab.research.google.com/github/stinh/Tiba_03_Image-recognition/blob/main/02_Pic_text_recognition.ipynb\" target=\"_parent\"><img src=\"https://colab.research.google.com/assets/colab-badge.svg\" alt=\"Open In Colab\"/></a>"
      ]
    },
    {
      "cell_type": "markdown",
      "metadata": {
        "id": "6tl6lyTZ-oZo"
      },
      "source": [
        "剔除指定照片上除文字以外的景物。\n",
        "\n",
        "不可以使用IF判斷式或者迴圈等指令。\n"
      ]
    },
    {
      "cell_type": "code",
      "metadata": {
        "colab": {
          "base_uri": "https://localhost:8080/"
        },
        "id": "4orOGrbp_otp",
        "outputId": "e33637b5-4b4b-43c0-f54f-498bac365358"
      },
      "source": [
        "!pip install pytesseract"
      ],
      "execution_count": null,
      "outputs": [
        {
          "output_type": "stream",
          "name": "stdout",
          "text": [
            "Collecting pytesseract\n",
            "  Downloading pytesseract-0.3.8.tar.gz (14 kB)\n",
            "Requirement already satisfied: Pillow in /usr/local/lib/python3.7/dist-packages (from pytesseract) (7.1.2)\n",
            "Building wheels for collected packages: pytesseract\n",
            "  Building wheel for pytesseract (setup.py) ... \u001b[?25l\u001b[?25hdone\n",
            "  Created wheel for pytesseract: filename=pytesseract-0.3.8-py2.py3-none-any.whl size=14072 sha256=277f806708bf357a492bd6d4b1ebc52ffbb5ef901525ecb4acf3d3e422b7815a\n",
            "  Stored in directory: /root/.cache/pip/wheels/a4/89/b9/3f11250225d0f90e5454fcc30fd1b7208db226850715aa9ace\n",
            "Successfully built pytesseract\n",
            "Installing collected packages: pytesseract\n",
            "Successfully installed pytesseract-0.3.8\n"
          ]
        }
      ]
    },
    {
      "cell_type": "code",
      "metadata": {
        "id": "m7Sn4JWm-dBw"
      },
      "source": [
        "import cv2,time\n",
        "import numpy as np\n",
        "import IPython.display as dp\n",
        "import pytesseract as pt\n",
        "from PIL import ImageFont, ImageDraw, Image\n",
        "from google.colab.patches import cv2_imshow"
      ],
      "execution_count": null,
      "outputs": []
    },
    {
      "cell_type": "code",
      "metadata": {
        "id": "CzKBzPTY_1U1"
      },
      "source": [
        "pic = cv2.imread(\"h2.png\",1) #讀圖\n",
        "# print(pic[0][0][0])\n",
        "# print(pic[0][0][1])\n",
        "# print(pic[0][0][2])\n",
        "# cv2_imshow(pic) #顯示圖片\n",
        "pic2 = cv2.absdiff(pic,(20,20,255,0))\n",
        "pic2 = cv2.multiply(pic,(255,255,255,0))\n",
        "pic2 = cv2.cvtColor(pic2,cv2.COLOR_BGR2GRAY)\n",
        "k,pic3 = cv2.threshold(pic2,90,255,cv2.THRESH_BINARY)\n",
        "\n",
        "# cv2_imshow(pic2)\n",
        "cv2_imshow(pic3)"
      ],
      "execution_count": null,
      "outputs": []
    }
  ]
}