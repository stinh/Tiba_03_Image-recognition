{
  "nbformat": 4,
  "nbformat_minor": 0,
  "metadata": {
    "colab": {
      "name": "01_Animation.ipynb",
      "provenance": [],
      "collapsed_sections": [],
      "authorship_tag": "ABX9TyNJzxfD2JO8Vkme1C/0MP1+",
      "include_colab_link": true
    },
    "kernelspec": {
      "name": "python3",
      "display_name": "Python 3"
    },
    "language_info": {
      "name": "python"
    }
  },
  "cells": [
    {
      "cell_type": "markdown",
      "metadata": {
        "id": "view-in-github",
        "colab_type": "text"
      },
      "source": [
        "<a href=\"https://colab.research.google.com/github/stinh/Tiba_03_Image-recognition/blob/main/01_Animation.ipynb\" target=\"_parent\"><img src=\"https://colab.research.google.com/assets/colab-badge.svg\" alt=\"Open In Colab\"/></a>"
      ]
    },
    {
      "cell_type": "markdown",
      "metadata": {
        "id": "jrRARxsYSuPV"
      },
      "source": [
        "寫一個動畫的程式。程式中有一個方形會在左右兩端來回的跑。"
      ]
    },
    {
      "cell_type": "code",
      "metadata": {
        "id": "Fz11SeINTD4y"
      },
      "source": [
        "import cv2, time\n",
        "import numpy as np\n",
        "import IPython.display as dp\n",
        "from PIL import ImageFont, ImageDraw, Image\n",
        "from google.colab.patches import cv2_imshow\n",
        "# import pygame, sys, threading"
      ],
      "execution_count": null,
      "outputs": []
    },
    {
      "cell_type": "code",
      "metadata": {
        "id": "-qAy7q1NQFSz",
        "colab": {
          "base_uri": "https://localhost:8080/",
          "height": 317
        },
        "outputId": "410f6ac5-d7cc-425b-8e30-eaee36bde5ab"
      },
      "source": [
        "p1=cv2.VideoWriter(\"1.mp4\", cv2.VideoWriter_fourcc(*'MP4V'), 24, (500,500)) \n",
        "\n",
        "\n",
        "t=0\n",
        "while t<2:\n",
        "# while True:\n",
        "  \n",
        "  for w in range(0,435,15):\n",
        "    m1=np.full((300, 500, 3), (255,255,255), np.uint8)\n",
        "    dp.clear_output(True) \n",
        "    cv2.rectangle(m1, (0+w,80),(80+w,160),(230,125,100), -1)\n",
        "    cv2_imshow(m1)\n",
        "    # p1.write(m1)\n",
        "    time.sleep(0.3) \n",
        "\n",
        "  for w in range(0,435,15):\n",
        "    m1=np.full((300, 500, 3), (255,255,255), np.uint8)\n",
        "    dp.clear_output(True) \n",
        "    cv2.rectangle(m1, (420-w,80),(500-w,160),(230,125,100), -1)\n",
        "    cv2_imshow(m1)\n",
        "    # p1.write(m1)\n",
        "    time.sleep(0.3) \n",
        "    \n",
        "    t+=1\n",
        "    \n",
        "  p1.release()\n",
        "\n",
        "p1.release()  "
      ],
      "execution_count": null,
      "outputs": [
        {
          "output_type": "display_data",
          "data": {
            "image/png": "[encoded data removed]",
            "text/plain": [
              "<PIL.Image.Image image mode=RGB size=500x300 at 0x7F8B6F1A4290>"
            ]
          },
          "metadata": {}
        }
      ]
    }
  ]
}